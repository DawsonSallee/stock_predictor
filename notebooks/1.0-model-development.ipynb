{
 "cells": [
  {
   "cell_type": "code",
   "execution_count": null,
   "id": "424b9153",
   "metadata": {},
   "outputs": [],
   "source": [
    "import yfinance as yf\n",
    "import pandas as pd\n",
    "import numpy as np\n",
    "from sklearn.ensemble import RandomForestClassifier\n",
    "from sklearn.model_selection import train_test_split\n",
    "from sklearn.metrics import accuracy_score\n",
    "import joblib\n",
    "import sys\n",
    "sys.path.append('../') # Add root directory to path to import src\n",
    "from src.feature_engineering import create_features"
   ]
  },
  {
   "cell_type": "code",
   "execution_count": null,
   "id": "f53c92fe",
   "metadata": {},
   "outputs": [],
   "source": [
    "# Download historical data for a specific stock (e.g., VOO)\n",
    "stock_df = yf.download('VOO', start='2014-01-01', end='2024-01-01')"
   ]
  },
  {
   "cell_type": "code",
   "execution_count": null,
   "id": "b17dcad4",
   "metadata": {},
   "outputs": [],
   "source": [
    "featured_df = create_features(stock_df)"
   ]
  },
  {
   "cell_type": "code",
   "execution_count": null,
   "id": "0fd7ab48",
   "metadata": {},
   "outputs": [],
   "source": [
    "# Target: Will the price go up (1) or down (0) tomorrow?\n",
    "featured_df['Target'] = np.where(featured_df['Close'].shift(-1) > featured_df['Close'], 1, 0)\n",
    "# We can't use the last row since we don't know the future\n",
    "featured_df = featured_df[:-1]"
   ]
  },
  {
   "cell_type": "code",
   "execution_count": null,
   "id": "924d3b0f",
   "metadata": {},
   "outputs": [],
   "source": [
    "features = ['ma20', 'ma50', 'volatility', 'rsi']\n",
    "X = featured_df[features]\n",
    "y = featured_df['Target']\n",
    "\n",
    "# Split data into training and testing sets\n",
    "X_train, X_test, y_train, y_test = train_test_split(X, y, test_size=0.2, random_state=42)"
   ]
  },
  {
   "cell_type": "code",
   "execution_count": null,
   "id": "964654ec",
   "metadata": {},
   "outputs": [],
   "source": [
    "model = RandomForestClassifier(n_estimators=100, random_state=42)\n",
    "model.fit(X_train, y_train)\n",
    "\n",
    "# Make predictions on the test set\n",
    "predictions = model.predict(X_test)\n",
    "print(f\"Model Accuracy: {accuracy_score(y_test, predictions):.2f}\")"
   ]
  },
  {
   "cell_type": "code",
   "execution_count": null,
   "id": "56393967",
   "metadata": {},
   "outputs": [],
   "source": [
    "joblib.dump(model, '../models/stock_predictor.pkl')\n",
    "print(\"Model saved to ../models/stock_predictor.pkl\")"
   ]
  }
 ],
 "metadata": {
  "kernelspec": {
   "display_name": "venv",
   "language": "python",
   "name": "python3"
  },
  "language_info": {
   "name": "python",
   "version": "3.10.11"
  }
 },
 "nbformat": 4,
 "nbformat_minor": 5
}
